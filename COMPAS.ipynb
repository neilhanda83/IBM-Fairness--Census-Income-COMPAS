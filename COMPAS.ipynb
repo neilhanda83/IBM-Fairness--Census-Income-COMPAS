{
 "cells": [
  {
   "cell_type": "code",
   "execution_count": null,
   "id": "0eb4f764",
   "metadata": {},
   "outputs": [],
   "source": [
    "\n",
    "# Import necessary libraries\n",
    "import sys\n",
    "sys.path.insert(1, \"../\")  \n",
    "\n",
    "import numpy as np\n",
    "np.random.seed(0)\n",
    "\n",
    "from aif360.datasets import CompasDataset\n",
    "from aif360.metrics import BinaryLabelDatasetMetric\n",
    "from aif360.algorithms.preprocessing import Reweighing\n",
    "\n",
    "from IPython.display import Markdown, display\n"
   ]
  },
  {
   "cell_type": "code",
   "execution_count": null,
   "id": "e78006fa",
   "metadata": {},
   "outputs": [],
   "source": [
    "\n",
    "# Load the COMPAS dataset and define protected attribute\n",
    "dataset_orig = CompasDataset(\n",
    "    protected_attribute_names=['race'],            # Protected attribute: race\n",
    "    privileged_classes=[['Caucasian']],           # Caucasians are privileged\n",
    "    features_to_drop=['sex']                      # Dropping sex attribute for simplicity\n",
    ")\n",
    "\n",
    "# Split dataset into training and test sets\n",
    "dataset_orig_train, dataset_orig_test = dataset_orig.split([0.7], shuffle=True)\n",
    "\n",
    "privileged_groups = [{'race': 1}]\n",
    "unprivileged_groups = [{'race': 0}]\n"
   ]
  },
  {
   "cell_type": "code",
   "execution_count": null,
   "id": "b2bb5890",
   "metadata": {},
   "outputs": [],
   "source": [
    "\n",
    "# Compute fairness metrics for the original training dataset\n",
    "metric_orig_train = BinaryLabelDatasetMetric(dataset_orig_train, \n",
    "                                             unprivileged_groups=unprivileged_groups,\n",
    "                                             privileged_groups=privileged_groups)\n",
    "display(Markdown(\"#### Original training dataset\"))\n",
    "print(\"Difference in mean outcomes between unprivileged and privileged groups = %f\" % metric_orig_train.mean_difference())\n"
   ]
  },
  {
   "cell_type": "code",
   "execution_count": null,
   "id": "44db6213",
   "metadata": {},
   "outputs": [],
   "source": [
    "\n",
    "# Mitigate bias using the Reweighing technique\n",
    "RW = Reweighing(unprivileged_groups=unprivileged_groups,\n",
    "                privileged_groups=privileged_groups)\n",
    "dataset_transf_train = RW.fit_transform(dataset_orig_train)\n"
   ]
  },
  {
   "cell_type": "code",
   "execution_count": null,
   "id": "fba4a031",
   "metadata": {},
   "outputs": [],
   "source": [
    "\n",
    "# Compute fairness metrics for the transformed training dataset\n",
    "metric_transf_train = BinaryLabelDatasetMetric(dataset_transf_train, \n",
    "                                               unprivileged_groups=unprivileged_groups,\n",
    "                                               privileged_groups=privileged_groups)\n",
    "display(Markdown(\"#### Transformed training dataset\"))\n",
    "print(\"Difference in mean outcomes between unprivileged and privileged groups = %f\" % metric_transf_train.mean_difference())\n"
   ]
  }
 ],
 "metadata": {},
 "nbformat": 4,
 "nbformat_minor": 5
}
